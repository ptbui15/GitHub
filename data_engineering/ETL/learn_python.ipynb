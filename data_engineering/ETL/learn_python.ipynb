{
 "cells": [
  {
   "cell_type": "markdown",
   "metadata": {},
   "source": [
    "## Basic Syntax"
   ]
  },
  {
   "cell_type": "code",
   "execution_count": 1,
   "metadata": {},
   "outputs": [
    {
     "name": "stdout",
     "output_type": "stream",
     "text": [
      "Hello World\n"
     ]
    }
   ],
   "source": [
    "print(\"Hello World\")"
   ]
  },
  {
   "cell_type": "markdown",
   "metadata": {},
   "source": [
    "## Building & Importing Packages"
   ]
  },
  {
   "cell_type": "code",
   "execution_count": null,
   "metadata": {},
   "outputs": [],
   "source": [
    "from assets import myModule as my\n",
    "\n",
    "phong = my.Person(\"Phong\", 36)\n",
    "\n",
    "print(phong.name)\n",
    "print(phong.age)\n",
    "phong.changeAge(100)\n",
    "print(phong.age)\n",
    "\n",
    "steve = my.Student(\"Steve\", 53)\n",
    "\n",
    "print(steve.age)\n",
    "print(my.testVariable)\n",
    "my.testFunc(1000)"
   ]
  },
  {
   "cell_type": "markdown",
   "metadata": {},
   "source": [
    "## Functions"
   ]
  },
  {
   "cell_type": "code",
   "execution_count": null,
   "metadata": {},
   "outputs": [],
   "source": [
    "from assets import myModule as my\n",
    "print(dir(my))\n",
    "my.testArgs(var1 = phong, test='test1', test2 = 'test2')\n",
    "\n"
   ]
  },
  {
   "cell_type": "markdown",
   "metadata": {},
   "source": [
    "## Data Structures"
   ]
  },
  {
   "cell_type": "code",
   "execution_count": null,
   "metadata": {},
   "outputs": [],
   "source": [
    "# Sequence Types #\n",
    "# Lists\n",
    "list = [1,2]\n",
    "list.append(3)\n",
    "list.insert(0,0)\n",
    "list.pop()\n",
    "list.pop(0)\n",
    "list.sort()\n",
    "list.reverse()\n",
    "\n",
    "# Tuples (cannot be change)\n",
    "tuple = (1,2)\n",
    "print(tuple)\n",
    "\n",
    "# Strings\n",
    "name = 'Phong Bui'\n",
    "\n",
    "# Binary Strings\n",
    "# Range Objects\n",
    "rangeObj = range(0,10)\n",
    "#listRange = list(rangeObj)\n",
    "rangeObj = range(0,10,2)\n",
    "\n",
    "\n",
    "# Shared Operations #\n",
    "# Membership\n",
    "12 not in [1,2,3,4,5]\n",
    "\n",
    "# Indexing\n",
    "name = \"This is a test string\"\n",
    "name[3]\n",
    "name[-1]\n",
    "\n",
    "# Slicing\n",
    "name[2:5]\n",
    "name[:8]\n",
    "name[0:8:2]\n",
    "# Interrogation\n",
    "len(name)\n",
    "min(name)\n",
    "max(name)\n",
    "\n",
    "name.count('s')\n",
    "name.index('t')\n",
    "\n",
    "# Math\n",
    "'prefix' + '_' + 'suffix'\n",
    "[1,2] + [3,4]\n",
    "[1,2] * 4\n"
   ]
  },
  {
   "cell_type": "markdown",
   "metadata": {},
   "source": [
    "## Dictionaries & Sets"
   ]
  },
  {
   "cell_type": "code",
   "execution_count": null,
   "metadata": {},
   "outputs": [],
   "source": [
    "# Dictionaries\n",
    "# Map keys to values"
   ]
  },
  {
   "cell_type": "markdown",
   "metadata": {},
   "source": [
    "## Lambda"
   ]
  },
  {
   "cell_type": "code",
   "execution_count": null,
   "metadata": {},
   "outputs": [],
   "source": [
    "#your_function_name = lambda inputs : output\n",
    "a = 1\n",
    "b = 2\n",
    "sum = lambda x,y : x + y\n",
    "c = sum(a,b)\n",
    "print(c)\n",
    "\n",
    "\n",
    "l = [2,4,7,3,14,19]\n",
    "for i in l:\n",
    "    odd = lambda x : x%2==1\n",
    "    if(odd(i)==True):\n",
    "        print(i)"
   ]
  },
  {
   "cell_type": "markdown",
   "metadata": {},
   "source": [
    "## Looping\n"
   ]
  },
  {
   "cell_type": "code",
   "execution_count": null,
   "metadata": {},
   "outputs": [],
   "source": [
    "# While loop\n",
    "\n",
    "value = 1\n",
    "while value <= 5:\n",
    "    print(value, \"Loop\")\n",
    "    value += 1\n",
    "\n",
    "# for loop\n",
    "for i in range(10):\n",
    "    print(i)\n"
   ]
  },
  {
   "cell_type": "markdown",
   "metadata": {},
   "source": [
    "## Input and condition"
   ]
  },
  {
   "cell_type": "code",
   "execution_count": null,
   "metadata": {},
   "outputs": [],
   "source": [
    "def confirm_name(input_name):\n",
    "    if input_name == 'Phong':\n",
    "        print (\"yup\")\n",
    "    else:\n",
    "        print(\"nope\")\n",
    "\n",
    "name = input(\"What's your name?\")\n",
    "print(\"Hello\", name)\n",
    "confirm_name(name)"
   ]
  },
  {
   "cell_type": "markdown",
   "metadata": {},
   "source": [
    "## Lists"
   ]
  },
  {
   "cell_type": "code",
   "execution_count": null,
   "metadata": {},
   "outputs": [],
   "source": [
    "testList = [\"apple\", 12, 24, \"nope\"]\n",
    "\n",
    "print(testList[0]+\" \"+str(testList[2]))\n",
    "\n",
    "testList.append(\"yes\")\n",
    "testList.remove(\"apple\")\n",
    "testList.insert(1,\"ok\")\n",
    "\n",
    "print(testList[-1])\n",
    "print(testList[0])\n",
    "\n",
    "print(testList)\n",
    "\n",
    "for i in testList:\n",
    "    print(i)"
   ]
  },
  {
   "cell_type": "markdown",
   "metadata": {},
   "source": [
    "## Map, Filter, Reduce"
   ]
  },
  {
   "cell_type": "code",
   "execution_count": null,
   "metadata": {},
   "outputs": [],
   "source": [
    "\n",
    "my_pets = ['alfred', 'tabitha', 'william', 'arla']\n",
    "uppered_pets = list(map(str.upper, my_pets))\n",
    "print(uppered_pets)\n",
    "\n",
    "# Same as below\n",
    "my_strings = ['a', 'b', 'c', 'd', 'e']\n",
    "my_numbers = [1, 2, 3, 4, 5]\n",
    "results = list(zip(my_strings, my_numbers))\n",
    "print(results)\n",
    "\n",
    "# Same as above\n",
    "my_strings = ['a', 'b', 'c', 'd', 'e']\n",
    "my_numbers = [1, 2, 3, 4, 5]\n",
    "results = list(map(lambda x, y: (x, y), my_strings, my_numbers))\n",
    "print(results)\n",
    "\n",
    "\n",
    "# Filter\n",
    "# Python 3\n",
    "scores = [66, 90, 68, 59, 76, 60, 88, 74, 81, 65]\n",
    "def is_A_student(score):\n",
    "    return score > 75\n",
    "over_75 = list(filter(is_A_student, scores))\n",
    "print(over_75)\n",
    "\n",
    "# Reduce\n",
    "# Python 3\n",
    "from functools import reduce\n",
    "numbers = [3, 4, 6, 9, 34, 12]\n",
    "\n",
    "def custom_sum(first, second):\n",
    "    return first + second\n",
    "\n",
    "result = reduce(custom_sum, numbers)\n",
    "print(result)"
   ]
  },
  {
   "cell_type": "markdown",
   "metadata": {},
   "source": [
    "## Pandas"
   ]
  },
  {
   "cell_type": "code",
   "execution_count": 2,
   "metadata": {},
   "outputs": [
    {
     "ename": "FileNotFoundError",
     "evalue": "[Errno 2] No such file or directory: 'golf.csv'",
     "output_type": "error",
     "traceback": [
      "\u001b[0;31m---------------------------------------------------------------------------\u001b[0m",
      "\u001b[0;31mFileNotFoundError\u001b[0m                         Traceback (most recent call last)",
      "Cell \u001b[0;32mIn [2], line 9\u001b[0m\n\u001b[1;32m      2\u001b[0m \u001b[39mfrom\u001b[39;00m \u001b[39massets\u001b[39;00m \u001b[39mimport\u001b[39;00m golfScores \u001b[39mas\u001b[39;00m gs\n\u001b[1;32m      5\u001b[0m \u001b[39m# Retrieve tournament -> saves to golf.csv\u001b[39;00m\n\u001b[1;32m      6\u001b[0m \u001b[39m#gs.tournamentData()\u001b[39;00m\n\u001b[1;32m      7\u001b[0m \n\u001b[1;32m      8\u001b[0m \u001b[39m# Read from created .csv\u001b[39;00m\n\u001b[0;32m----> 9\u001b[0m df \u001b[39m=\u001b[39m pd\u001b[39m.\u001b[39;49mread_csv(\u001b[39m'\u001b[39;49m\u001b[39mgolf.csv\u001b[39;49m\u001b[39m'\u001b[39;49m)\n\u001b[1;32m     10\u001b[0m \u001b[39m#print(df.head())\u001b[39;00m\n\u001b[1;32m     11\u001b[0m \n\u001b[1;32m     12\u001b[0m \u001b[39m# Filter rows based off column, return all columns\u001b[39;00m\n\u001b[1;32m     13\u001b[0m filtered \u001b[39m=\u001b[39m df[df[\u001b[39m'\u001b[39m\u001b[39mtotal\u001b[39m\u001b[39m'\u001b[39m] \u001b[39m<\u001b[39m \u001b[39m-\u001b[39m\u001b[39m10\u001b[39m]\n",
      "File \u001b[0;32m/opt/homebrew/Caskroom/miniconda/base/envs/dataengineering/lib/python3.10/site-packages/pandas/util/_decorators.py:211\u001b[0m, in \u001b[0;36mdeprecate_kwarg.<locals>._deprecate_kwarg.<locals>.wrapper\u001b[0;34m(*args, **kwargs)\u001b[0m\n\u001b[1;32m    209\u001b[0m     \u001b[39melse\u001b[39;00m:\n\u001b[1;32m    210\u001b[0m         kwargs[new_arg_name] \u001b[39m=\u001b[39m new_arg_value\n\u001b[0;32m--> 211\u001b[0m \u001b[39mreturn\u001b[39;00m func(\u001b[39m*\u001b[39;49margs, \u001b[39m*\u001b[39;49m\u001b[39m*\u001b[39;49mkwargs)\n",
      "File \u001b[0;32m/opt/homebrew/Caskroom/miniconda/base/envs/dataengineering/lib/python3.10/site-packages/pandas/util/_decorators.py:331\u001b[0m, in \u001b[0;36mdeprecate_nonkeyword_arguments.<locals>.decorate.<locals>.wrapper\u001b[0;34m(*args, **kwargs)\u001b[0m\n\u001b[1;32m    325\u001b[0m \u001b[39mif\u001b[39;00m \u001b[39mlen\u001b[39m(args) \u001b[39m>\u001b[39m num_allow_args:\n\u001b[1;32m    326\u001b[0m     warnings\u001b[39m.\u001b[39mwarn(\n\u001b[1;32m    327\u001b[0m         msg\u001b[39m.\u001b[39mformat(arguments\u001b[39m=\u001b[39m_format_argument_list(allow_args)),\n\u001b[1;32m    328\u001b[0m         \u001b[39mFutureWarning\u001b[39;00m,\n\u001b[1;32m    329\u001b[0m         stacklevel\u001b[39m=\u001b[39mfind_stack_level(),\n\u001b[1;32m    330\u001b[0m     )\n\u001b[0;32m--> 331\u001b[0m \u001b[39mreturn\u001b[39;00m func(\u001b[39m*\u001b[39;49margs, \u001b[39m*\u001b[39;49m\u001b[39m*\u001b[39;49mkwargs)\n",
      "File \u001b[0;32m/opt/homebrew/Caskroom/miniconda/base/envs/dataengineering/lib/python3.10/site-packages/pandas/io/parsers/readers.py:950\u001b[0m, in \u001b[0;36mread_csv\u001b[0;34m(filepath_or_buffer, sep, delimiter, header, names, index_col, usecols, squeeze, prefix, mangle_dupe_cols, dtype, engine, converters, true_values, false_values, skipinitialspace, skiprows, skipfooter, nrows, na_values, keep_default_na, na_filter, verbose, skip_blank_lines, parse_dates, infer_datetime_format, keep_date_col, date_parser, dayfirst, cache_dates, iterator, chunksize, compression, thousands, decimal, lineterminator, quotechar, quoting, doublequote, escapechar, comment, encoding, encoding_errors, dialect, error_bad_lines, warn_bad_lines, on_bad_lines, delim_whitespace, low_memory, memory_map, float_precision, storage_options)\u001b[0m\n\u001b[1;32m    935\u001b[0m kwds_defaults \u001b[39m=\u001b[39m _refine_defaults_read(\n\u001b[1;32m    936\u001b[0m     dialect,\n\u001b[1;32m    937\u001b[0m     delimiter,\n\u001b[0;32m   (...)\u001b[0m\n\u001b[1;32m    946\u001b[0m     defaults\u001b[39m=\u001b[39m{\u001b[39m\"\u001b[39m\u001b[39mdelimiter\u001b[39m\u001b[39m\"\u001b[39m: \u001b[39m\"\u001b[39m\u001b[39m,\u001b[39m\u001b[39m\"\u001b[39m},\n\u001b[1;32m    947\u001b[0m )\n\u001b[1;32m    948\u001b[0m kwds\u001b[39m.\u001b[39mupdate(kwds_defaults)\n\u001b[0;32m--> 950\u001b[0m \u001b[39mreturn\u001b[39;00m _read(filepath_or_buffer, kwds)\n",
      "File \u001b[0;32m/opt/homebrew/Caskroom/miniconda/base/envs/dataengineering/lib/python3.10/site-packages/pandas/io/parsers/readers.py:605\u001b[0m, in \u001b[0;36m_read\u001b[0;34m(filepath_or_buffer, kwds)\u001b[0m\n\u001b[1;32m    602\u001b[0m _validate_names(kwds\u001b[39m.\u001b[39mget(\u001b[39m\"\u001b[39m\u001b[39mnames\u001b[39m\u001b[39m\"\u001b[39m, \u001b[39mNone\u001b[39;00m))\n\u001b[1;32m    604\u001b[0m \u001b[39m# Create the parser.\u001b[39;00m\n\u001b[0;32m--> 605\u001b[0m parser \u001b[39m=\u001b[39m TextFileReader(filepath_or_buffer, \u001b[39m*\u001b[39;49m\u001b[39m*\u001b[39;49mkwds)\n\u001b[1;32m    607\u001b[0m \u001b[39mif\u001b[39;00m chunksize \u001b[39mor\u001b[39;00m iterator:\n\u001b[1;32m    608\u001b[0m     \u001b[39mreturn\u001b[39;00m parser\n",
      "File \u001b[0;32m/opt/homebrew/Caskroom/miniconda/base/envs/dataengineering/lib/python3.10/site-packages/pandas/io/parsers/readers.py:1442\u001b[0m, in \u001b[0;36mTextFileReader.__init__\u001b[0;34m(self, f, engine, **kwds)\u001b[0m\n\u001b[1;32m   1439\u001b[0m     \u001b[39mself\u001b[39m\u001b[39m.\u001b[39moptions[\u001b[39m\"\u001b[39m\u001b[39mhas_index_names\u001b[39m\u001b[39m\"\u001b[39m] \u001b[39m=\u001b[39m kwds[\u001b[39m\"\u001b[39m\u001b[39mhas_index_names\u001b[39m\u001b[39m\"\u001b[39m]\n\u001b[1;32m   1441\u001b[0m \u001b[39mself\u001b[39m\u001b[39m.\u001b[39mhandles: IOHandles \u001b[39m|\u001b[39m \u001b[39mNone\u001b[39;00m \u001b[39m=\u001b[39m \u001b[39mNone\u001b[39;00m\n\u001b[0;32m-> 1442\u001b[0m \u001b[39mself\u001b[39m\u001b[39m.\u001b[39m_engine \u001b[39m=\u001b[39m \u001b[39mself\u001b[39;49m\u001b[39m.\u001b[39;49m_make_engine(f, \u001b[39mself\u001b[39;49m\u001b[39m.\u001b[39;49mengine)\n",
      "File \u001b[0;32m/opt/homebrew/Caskroom/miniconda/base/envs/dataengineering/lib/python3.10/site-packages/pandas/io/parsers/readers.py:1735\u001b[0m, in \u001b[0;36mTextFileReader._make_engine\u001b[0;34m(self, f, engine)\u001b[0m\n\u001b[1;32m   1733\u001b[0m     \u001b[39mif\u001b[39;00m \u001b[39m\"\u001b[39m\u001b[39mb\u001b[39m\u001b[39m\"\u001b[39m \u001b[39mnot\u001b[39;00m \u001b[39min\u001b[39;00m mode:\n\u001b[1;32m   1734\u001b[0m         mode \u001b[39m+\u001b[39m\u001b[39m=\u001b[39m \u001b[39m\"\u001b[39m\u001b[39mb\u001b[39m\u001b[39m\"\u001b[39m\n\u001b[0;32m-> 1735\u001b[0m \u001b[39mself\u001b[39m\u001b[39m.\u001b[39mhandles \u001b[39m=\u001b[39m get_handle(\n\u001b[1;32m   1736\u001b[0m     f,\n\u001b[1;32m   1737\u001b[0m     mode,\n\u001b[1;32m   1738\u001b[0m     encoding\u001b[39m=\u001b[39;49m\u001b[39mself\u001b[39;49m\u001b[39m.\u001b[39;49moptions\u001b[39m.\u001b[39;49mget(\u001b[39m\"\u001b[39;49m\u001b[39mencoding\u001b[39;49m\u001b[39m\"\u001b[39;49m, \u001b[39mNone\u001b[39;49;00m),\n\u001b[1;32m   1739\u001b[0m     compression\u001b[39m=\u001b[39;49m\u001b[39mself\u001b[39;49m\u001b[39m.\u001b[39;49moptions\u001b[39m.\u001b[39;49mget(\u001b[39m\"\u001b[39;49m\u001b[39mcompression\u001b[39;49m\u001b[39m\"\u001b[39;49m, \u001b[39mNone\u001b[39;49;00m),\n\u001b[1;32m   1740\u001b[0m     memory_map\u001b[39m=\u001b[39;49m\u001b[39mself\u001b[39;49m\u001b[39m.\u001b[39;49moptions\u001b[39m.\u001b[39;49mget(\u001b[39m\"\u001b[39;49m\u001b[39mmemory_map\u001b[39;49m\u001b[39m\"\u001b[39;49m, \u001b[39mFalse\u001b[39;49;00m),\n\u001b[1;32m   1741\u001b[0m     is_text\u001b[39m=\u001b[39;49mis_text,\n\u001b[1;32m   1742\u001b[0m     errors\u001b[39m=\u001b[39;49m\u001b[39mself\u001b[39;49m\u001b[39m.\u001b[39;49moptions\u001b[39m.\u001b[39;49mget(\u001b[39m\"\u001b[39;49m\u001b[39mencoding_errors\u001b[39;49m\u001b[39m\"\u001b[39;49m, \u001b[39m\"\u001b[39;49m\u001b[39mstrict\u001b[39;49m\u001b[39m\"\u001b[39;49m),\n\u001b[1;32m   1743\u001b[0m     storage_options\u001b[39m=\u001b[39;49m\u001b[39mself\u001b[39;49m\u001b[39m.\u001b[39;49moptions\u001b[39m.\u001b[39;49mget(\u001b[39m\"\u001b[39;49m\u001b[39mstorage_options\u001b[39;49m\u001b[39m\"\u001b[39;49m, \u001b[39mNone\u001b[39;49;00m),\n\u001b[1;32m   1744\u001b[0m )\n\u001b[1;32m   1745\u001b[0m \u001b[39massert\u001b[39;00m \u001b[39mself\u001b[39m\u001b[39m.\u001b[39mhandles \u001b[39mis\u001b[39;00m \u001b[39mnot\u001b[39;00m \u001b[39mNone\u001b[39;00m\n\u001b[1;32m   1746\u001b[0m f \u001b[39m=\u001b[39m \u001b[39mself\u001b[39m\u001b[39m.\u001b[39mhandles\u001b[39m.\u001b[39mhandle\n",
      "File \u001b[0;32m/opt/homebrew/Caskroom/miniconda/base/envs/dataengineering/lib/python3.10/site-packages/pandas/io/common.py:856\u001b[0m, in \u001b[0;36mget_handle\u001b[0;34m(path_or_buf, mode, encoding, compression, memory_map, is_text, errors, storage_options)\u001b[0m\n\u001b[1;32m    851\u001b[0m \u001b[39melif\u001b[39;00m \u001b[39misinstance\u001b[39m(handle, \u001b[39mstr\u001b[39m):\n\u001b[1;32m    852\u001b[0m     \u001b[39m# Check whether the filename is to be opened in binary mode.\u001b[39;00m\n\u001b[1;32m    853\u001b[0m     \u001b[39m# Binary mode does not support 'encoding' and 'newline'.\u001b[39;00m\n\u001b[1;32m    854\u001b[0m     \u001b[39mif\u001b[39;00m ioargs\u001b[39m.\u001b[39mencoding \u001b[39mand\u001b[39;00m \u001b[39m\"\u001b[39m\u001b[39mb\u001b[39m\u001b[39m\"\u001b[39m \u001b[39mnot\u001b[39;00m \u001b[39min\u001b[39;00m ioargs\u001b[39m.\u001b[39mmode:\n\u001b[1;32m    855\u001b[0m         \u001b[39m# Encoding\u001b[39;00m\n\u001b[0;32m--> 856\u001b[0m         handle \u001b[39m=\u001b[39m \u001b[39mopen\u001b[39;49m(\n\u001b[1;32m    857\u001b[0m             handle,\n\u001b[1;32m    858\u001b[0m             ioargs\u001b[39m.\u001b[39;49mmode,\n\u001b[1;32m    859\u001b[0m             encoding\u001b[39m=\u001b[39;49mioargs\u001b[39m.\u001b[39;49mencoding,\n\u001b[1;32m    860\u001b[0m             errors\u001b[39m=\u001b[39;49merrors,\n\u001b[1;32m    861\u001b[0m             newline\u001b[39m=\u001b[39;49m\u001b[39m\"\u001b[39;49m\u001b[39m\"\u001b[39;49m,\n\u001b[1;32m    862\u001b[0m         )\n\u001b[1;32m    863\u001b[0m     \u001b[39melse\u001b[39;00m:\n\u001b[1;32m    864\u001b[0m         \u001b[39m# Binary mode\u001b[39;00m\n\u001b[1;32m    865\u001b[0m         handle \u001b[39m=\u001b[39m \u001b[39mopen\u001b[39m(handle, ioargs\u001b[39m.\u001b[39mmode)\n",
      "\u001b[0;31mFileNotFoundError\u001b[0m: [Errno 2] No such file or directory: 'golf.csv'"
     ]
    }
   ],
   "source": [
    "import pandas as pd\n",
    "from assets import golfScores as gs\n",
    "\n",
    "\n",
    "# Retrieve tournament -> saves to golf.csv\n",
    "#gs.tournamentData()\n",
    "\n",
    "# Read from created .csv\n",
    "df = pd.read_csv('golf.csv')\n",
    "#print(df.head())\n",
    "\n",
    "# Filter rows based off column, return all columns\n",
    "filtered = df[df['total'] < -10]\n",
    "#print(filtered.head())\n",
    "\n",
    "# Filter rows based off column, return subset of columns\n",
    "filtered = df.loc[df[\"position\"] == 'T3', [\"lastName\",\"strokes\"]]\n",
    "#print(filtered.head())\n",
    "\n",
    "# New column derived from existing column\n",
    "filtered['newColumn'] = (filtered['lastName']) + \"_\" + \"new\"\n",
    "#print(filtered.head())"
   ]
  },
  {
   "cell_type": "markdown",
   "metadata": {},
   "source": [
    "## Matching SQL -> Pandas"
   ]
  },
  {
   "cell_type": "code",
   "execution_count": null,
   "metadata": {},
   "outputs": [],
   "source": [
    "import pandas as pd\n",
    "\n",
    "crime = pd.read_csv('data/crime.csv')\n",
    "\n",
    "# SELECT * FROM crime WHERE col1 = 'a' and col2 = 'b'\n",
    "filtered = crime.loc[((crime['NEIGHBORHOOD_ID'] == 'valverde') & (crime['IS_CRIME'] == 1))]\n",
    "\n",
    "# SELECT col1, col2 FROM crime WHERE col3 = 'a'\n",
    "filtered2 = crime.loc[((crime['NEIGHBORHOOD_ID'] == 'valverde') & (crime['IS_CRIME'] == 1)),['OFFENSE_CATEGORY_ID', 'OFFENSE_TYPE_ID']]\n",
    "\n",
    "# SELECT COUNT(*) FROM crime\n",
    "print(crime.loc[((crime['NEIGHBORHOOD_ID'] == 'valverde') & (crime['IS_CRIME'] == 1))].count())\n",
    "\n",
    "# SELECT count(*), col1 FROM crime GROUP BY col1\n",
    "print(crime.loc[((crime['NEIGHBORHOOD_ID'] == 'valverde') & (crime['IS_CRIME'] == 1)),['OFFENSE_CATEGORY_ID', 'OFFENSE_TYPE_ID']].groupby('OFFENSE_TYPE_ID').size())\n",
    "\n",
    "# SELECT DISTINCT col1, col2 FROM crime\n",
    "filtered3 = crime.drop_duplicates(['NEIGHBORHOOD_ID','OFFENSE_CATEGORY_ID'])[['NEIGHBORHOOD_ID','OFFENSE_CATEGORY_ID']]\n",
    "\n",
    "\n",
    "# SELECT MIN(col1) FROM crime WHERE col2 = 'a';\n",
    "crime.loc[crime['NEIGHBORHOOD_ID']=='valverde',['GEO_LON']].min()\n",
    "\n",
    "# SELECT * FROM crime where col1 IN (a,b,c)\n",
    "cities = ['valverde', 'hampden']\n",
    "filtered_df = crime[crime['NEIGHBORHOOD_ID'].isin(cities)]\n",
    "filtered4 = filtered_df[['NEIGHBORHOOD_ID','GEO_LON']]\n",
    "\n",
    "\n",
    "# SELECT column_name(s) FROM table1 LEFT JOIN table2 ON table1.column_name = table2.column_name; \n",
    "\n",
    "join_df = pd.DataFrame({'nbhr':['valverde', 'hampden'], 'col':[1,2]})\n",
    "\n",
    "    # Matching column names\n",
    "    # left_join_df = filtered4.merge(join_df, how='inner', on='NEIGHBORHOOD_ID')\n",
    "\n",
    "    # Different column names\n",
    "left_join_df = filtered4.merge(join_df, how='inner', left_on='NEIGHBORHOOD_ID', right_on='nbhr')\n",
    "left_join_df = left_join_df.loc[:,['NEIGHBORHOOD_ID', 'GEO_LON','col']]\n",
    "\n",
    "\n",
    "# SELECT column_name(s) FROM table1 INNER JOIN table2 ON table1.column_name = table2.column_name;\n",
    "join_df = pd.DataFrame({'nbhr':['valverde'], 'col':[1]})\n",
    "inner_join_valverde_df = filtered4.merge(join_df, how='inner', left_on='NEIGHBORHOOD_ID', right_on='nbhr')\n",
    "inner_join_valverde_df = inner_join_valverde_df.loc[:,['NEIGHBORHOOD_ID', 'GEO_LON','col']]\n",
    "\n",
    "join_df = pd.DataFrame({'nbhr':['hampden'], 'col':[2]})\n",
    "inner_join_hampden_df = filtered4.merge(join_df, how='inner', left_on='NEIGHBORHOOD_ID', right_on='nbhr')\n",
    "inner_join_hampden_df = inner_join_hampden_df.loc[:,['NEIGHBORHOOD_ID', 'GEO_LON','col']]\n",
    "\n",
    "# SELECT column_name(s) FROM table1 UNION\n",
    "# SELECT column_name(s) FROM table2;\n",
    "union_df = pd.concat([inner_join_valverde_df, inner_join_hampden_df])\n",
    "\n",
    "#INSERT INTO table_name (column1, column2, column3, ...)\n",
    "#VALUES (value1, value2, value3, ...);\n",
    "new_values_df = pd.DataFrame({'NEIGHBORHOOD_ID':['lebanon'], 'GEO_LON':[100], 'col':[3]})\n",
    "insert_df = pd.concat([union_df, new_values_df])\n",
    "\n",
    "#UPDATE table_name\n",
    "#SET column1 = value1, column2 = value2, ...\n",
    "#WHERE condition;\n",
    "insert_df.loc[insert_df['NEIGHBORHOOD_ID'] == 'lebanon', 'col'] = 6\n",
    "\n",
    "\n",
    "# DELETE FROM table_name WHERE condition;\n",
    "# DELETE hampmden\n",
    "insert_df = insert_df.loc[~(insert_df['NEIGHBORHOOD_ID'] == 'hampden'), :]\n",
    "#insert_df = insert_df[insert_df['NEIGHBORHOOD_ID'] != 'hampden]\n"
   ]
  },
  {
   "cell_type": "markdown",
   "metadata": {},
   "source": [
    "## PySpark"
   ]
  },
  {
   "cell_type": "code",
   "execution_count": null,
   "metadata": {},
   "outputs": [],
   "source": [
    "from pyspark.sql import SparkSession\n",
    "from pyspark import SparkContext\n",
    "from pyspark.conf import SparkConf\n",
    "\n",
    "conf = SparkConf()\n",
    "conf.setAll(\n",
    "    [\n",
    "        ('spark.app.name', 'pysparktest'),\n",
    "        ('spark.master', 'spark://localhost:7077'),\n",
    "        ('spark.executor.memory', \"512m\")\n",
    "    ]\n",
    ")\n",
    "\n",
    "spark = SparkSession.builder.config(conf=conf).getOrCreate()"
   ]
  },
  {
   "cell_type": "code",
   "execution_count": null,
   "metadata": {},
   "outputs": [],
   "source": [
    "import pandas as pd\n",
    "\n",
    "# Create a Spark dataframe from a pandas (can't get Spark to read csv yet)\n",
    "df = pd.read_csv('data/2015-summary.csv')\n",
    "flightdata2015 = spark.createDataFrame(df)\n"
   ]
  },
  {
   "cell_type": "code",
   "execution_count": null,
   "metadata": {},
   "outputs": [],
   "source": [
    "# Shuffling is a mechanism Spark uses to redistribute the data across different executors and even across machines\n",
    "spark.conf.set('spark.sql.shuffle.partitions','5')\n",
    "flightdata2015.sort('count').take(2)"
   ]
  },
  {
   "cell_type": "code",
   "execution_count": null,
   "metadata": {},
   "outputs": [],
   "source": [
    "flightdata2015.createOrReplaceTempView('flight_data_2015')"
   ]
  },
  {
   "cell_type": "code",
   "execution_count": null,
   "metadata": {},
   "outputs": [],
   "source": [
    "sqlWay = spark.sql(\"\"\"SELECT DEST_COUNTRY_NAME, count(1) FROM flight_data_2015 GROUP BY DEST_COUNTRY_NAME\"\"\")\n",
    "sqlWay = spark.sql(\"\"\"SELECT max(count) FROM flight_data_2015\"\"\")\n",
    "sqlWay = spark.sql(\"\"\"SELECT DEST_COUNTRY_NAME, sum(count) as destination_total FROM flight_data_2015 GROUP BY DEST_COUNTRY_NAME ORDER BY sum(count) DESC\"\"\")\n",
    "sqlWay.show()"
   ]
  },
  {
   "cell_type": "code",
   "execution_count": null,
   "metadata": {},
   "outputs": [],
   "source": [
    "from pyspark.sql.functions import desc\n",
    "\n",
    "flightdata2015.groupBy('DEST_COUNTRY_NAME').sum('count').withColumnRenamed('sum(count)' ,'destination_total').sort(desc('destination_total')).limit(5).show()"
   ]
  },
  {
   "cell_type": "code",
   "execution_count": null,
   "metadata": {},
   "outputs": [],
   "source": [
    "spark.stop()"
   ]
  },
  {
   "cell_type": "markdown",
   "metadata": {},
   "source": [
    "## Python 3.8.9 Package Install"
   ]
  },
  {
   "cell_type": "code",
   "execution_count": null,
   "metadata": {},
   "outputs": [],
   "source": [
    "import sys\n",
    "!{sys.executable} -m pip install pandas"
   ]
  },
  {
   "cell_type": "code",
   "execution_count": null,
   "metadata": {},
   "outputs": [],
   "source": [
    "import sys\n",
    "!{sys.executable} -m site"
   ]
  }
 ],
 "metadata": {
  "kernelspec": {
   "display_name": "Python 3.10.8 ('dataengineering')",
   "language": "python",
   "name": "python3"
  },
  "language_info": {
   "codemirror_mode": {
    "name": "ipython",
    "version": 3
   },
   "file_extension": ".py",
   "mimetype": "text/x-python",
   "name": "python",
   "nbconvert_exporter": "python",
   "pygments_lexer": "ipython3",
   "version": "3.10.8 | packaged by conda-forge | (main, Nov 22 2022, 08:25:13) [Clang 14.0.6 ]"
  },
  "vscode": {
   "interpreter": {
    "hash": "4524c90d178d43c4fa8acfe45a1d5a7a8fec32e07b66a762b58c14d08737da56"
   }
  }
 },
 "nbformat": 4,
 "nbformat_minor": 2
}
